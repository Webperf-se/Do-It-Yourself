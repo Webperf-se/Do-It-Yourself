{
  "cells": [
    {
      "metadata": {
        "collapsed": true
      },
      "cell_type": "markdown",
      "source": "# 01 - Intro\nHär kommer de mest basala och banala exemplen på hur man kan använda Jupyter Notebooks för webbanalys.\n\n**Noob på Jupyter notebooks?** \nMarkera den grå cell med kod du vill köra och klicka antingen på \"Run\"-knappen eller använd tangentbordskommandot Ctrl + Enter. De vita cellerna är dokumentation. De skrivs med fikonspråket [Markdown](https://www.markdowntutorial.com). För att ändra de vita cellerna dubbelklickar du i dem."
    },
    {
      "metadata": {},
      "cell_type": "markdown",
      "source": "## 01:00 – Vilka moduler finns i systemet?\nListar vilka moduler som finns. Detta hjälper dig få reda på vad du kan använda i den miljö du kör din notebook. Det är i denna lista du kan kolla om något saknas. \nFör denna första notebook behöver du hitta följande i nedan lista:\n* bs4\n* requests"
    },
    {
      "metadata": {
        "trusted": true
      },
      "cell_type": "code",
      "source": "help('modules')",
      "execution_count": 10,
      "outputs": [
        {
          "output_type": "stream",
          "text": "\nPlease wait a moment while I gather a list of all available modules...\n\nCrypto              bz2file             keyring             queue\nCython              cProfile            keyword             quopri\nDora                cachecontrol        kiwisolver          random\nIPython             caffe2              klein               re\nKqlmagic            calendar            knack               readline\nOpenSSL             certifi             lancet              reprlib\nPIL                 cffi                lazy_object_proxy   requests\nPyQt5               cgi                 lib2to3             requests_oauthlib\n__future__          cgitb               libarchive          resource\n_ast                characteristic      libfuturize         retrying\n_ast27              chardet             libpasteurize       rlcompleter\n_ast3               chunk               lightgbm            rmagic\n_asyncio            click               line_profiler       rope\n_bisect             client              line_profiler_py35  rpy2\n_blake2             cloudpickle         linecache           rsrc\n_bootlocale         clyent              llvmlite            ruamel_yaml\n_bz2                cmath               locale              runpy\n_cffi_backend       cmd                 locket              s3transfer\n_cntk_py            cntk                lockfile            samples\n_codecs             code                logging             sched\n_codecs_cn          codecs              luigi               scipy\n_codecs_hk          codeop              lxml                scripts\n_codecs_iso2022     collections         lzma                scrubadub\n_codecs_jp          colorama            macpath             seaborn\n_codecs_kr          colorsys            macurl2path         secrets\n_codecs_tw          compileall          mailbox             secretstorage\n_collections        concurrent          mailcap             select\n_collections_abc    conda               markdown            selectors\n_compat_pickle      conda_build         markupsafe          send2trash\n_compression        conda_env           marshal             service_identity\n_crypt              conf                math                setuptools\n_csv                configparser        matplotlib          shap\n_ctypes             constantly          mccabe              shelve\n_ctypes_test        contextlib          memory_profiler     shlex\n_curses             contextlib2         mimetypes           shutil\n_curses_panel       copy                mistune             signal\n_datetime           copyreg             mkl                 simplegeneric\n_decimal            coverage            mkl_fft             singledispatch\n_dummy_thread       coveralls           mkl_random          singledispatch_helpers\n_elementtree        crypt               mmap                sip\n_functools          cryptography        mock                sipconfig\n_hashlib            csv                 modulefinder        sipdistutils\n_heapq              ctypes              more_itertools      site\n_imp                curl                mpmath              six\n_io                 curses              mprof               skbio\n_json               cycler              msgpack             skimage\n_line_profiler      cython              msrest              skl2onnx\n_locale             cythonmagic         msrestazure         sklearn\n_lsprof             cytoolz             multimethods        sklearn_pandas\n_lzma               daemon              multipledispatch    smart_open\n_markupbase         dask                multiprocessing     smtpd\n_md5                datacleaner         nacl                smtplib\n_mssql              datascience         natsort             snakeviz\n_multibytecodec     datashape           navigator_updater   sndhdr\n_multiprocessing    datetime            nbconvert           snowballstemmer\n_opcode             dateutil            nbformat            socket\n_operator           dbm                 ndg                 socketserver\n_osx_support        decimal             netrc               socks\n_pickle             decorator           networkx            sockshandler\n_plotly_future_     defusedxml          nimbusml            sortedcollections\n_plotly_utils       deprecated          nis                 sortedcontainers\n_posixsubprocess    difflib             nltk                sphinx\n_pydecimal          dill                nntplib             sphinxcontrib\n_pyio               dis                 nose                sphinxify\n_pytest             distributed         notebook            spwd\n_random             distro              ntpath              spyder\n_rinterface_cffi    distutils           nturl2path          spyder_breakpoints\n_ruamel_yaml        doc                 numba               spyder_io_dcm\n_sha1               docker              numbergen           spyder_io_hdf5\n_sha256             dockerpycreds       numbers             spyder_kernels\n_sha3               docopt              numexpr             spyder_profiler\n_sha512             docs                numpy               spyder_pylint\n_signal             doctest             numpydoc            sqlalchemy\n_sitebuiltins       docutils            oauthlib            sqlite3\n_socket             dot_parser          odo                 sre_compile\n_sqlite3            dotnetcore2         ogr                 sre_constants\n_sre                dummy_threading     olefile             sre_parse\n_ssl                easy_install        onnx                ssl\n_stat               easyconfig          onnxconverter_common stat\n_string             edward              onnxmltools         statistics\n_strptime           elasticsearch       onnxruntime         statsmodels\n_struct             email               opcode              storemagic\n_symtable           encodings           openpyxl            string\n_sysconfigdata_i686_conda_cos6_linux_gnu ensurepip           operator            stringprep\n_sysconfigdata_m_linux_x86_64-linux-gnu entrypoints         optparse            struct\n_sysconfigdata_powerpc64le_conda_cos7_linux_gnu enum                os                  subprocess\n_sysconfigdata_x86_64_apple_darwin13_4_0 errno               osgeo               sunau\n_sysconfigdata_x86_64_conda_cos6_linux_gnu et_xmlfile          osr                 symbol\n_testbuffer         fastcache           ossaudiodev         sympy\n_testcapi           faulthandler        packaging           sympyprinting\n_testimportmultiple fcntl               pandas              symtable\n_testmultiphase     feedparser          pandasql            sys\n_thread             filecmp             pandocfilters       sysconfig\n_threading_local    fileinput           papermill           syslog\n_tkinter            filelock            param               tables\n_tracemalloc        flask               paramiko            tabnanny\n_warnings           flask_cors          parser              tabulate\n_weakref            fnmatch             parso               tarfile\n_weakrefset         folium              partd               tblib\n_yaml               formatter           past                telnetlib\nabc                 fractions           path                tempfile\nabsl                ftfy                pathlib             tenacity\nadal                ftplib              pathlib2            tensorboard\naifc                functools           pathspec            tensorflow\nalabaster           future              patsy               termcolor\naltair              gast                pbr                 terminado\nanaconda_navigator  gc                  pdb                 termios\nanaconda_project    gdal                pep8                test\nansiwrap            gdalconst           pexpect             test_characteristic\nantigravity         gdalnumeric         phonenumbers        test_path\nantlr4              genericpath         pickle              test_pycosat\nappdirs             gensim              pickleshare         testpath\napplicationinsights getopt              pickletools         tests\nargcomplete         getpass             pip                 textblob\nargparse            gettext             pipes               textwrap\narray               gevent              pkg_resources       textwrap3\narrow               ggplot              pkginfo             tf2onnx\nasn1crypto          github              pkgutil             theano\nast                 glob                platform            this\nastor               glob2               plistlib            threading\nastroid             gmpy2               plotly              time\nastropy             gnm                 plotlywidget        timeit\nasynchat            graphviz            pluggy              tkinter\nasyncio             greenlet            ply                 tlz\nasyncore            gridfs              pmdarima            token\natexit              grp                 poplib              tokenize\natomicwrites        grpc                portalocker         toolz\nattr                gym                 portalocker_tests   torch\naudioop             gzip                posix               torchvision\nautomat             h5py                posixpath           tornado\nautoml              hamcrest            pprint              tqdm\nautoreload          hashlib             prettypandas        trace\nazure               hdmedians           prettytable         traceback\nazureml             heapdict            profile             tracemalloc\nbabel               heapq               prometheus_client   traitlets\nbackcall            hmac                prompt_toolkit      traittypes\nbackports           holoviews           pstats              treq\nbase64              html                psutil              tty\nbcrypt              html5lib            psycopg2            tubes\nbdb                 http                pty                 turtle\nbeautifier          humanfriendly       ptyprocess          turtledemo\nbenchmarks          hyperlink           pwd                 twisted\nbin                 idlelib             py                  typed_ast\nbinascii            idna                py4j                types\nbinhex              imageio             py_compile          typing\nbinstar_client      imagesize           pyang               typing_extensions\nbisect              imaplib             pyarrow             unicodecsv\nbitarray            imghdr              pyasn1              unicodedata\nbkcharts            imp                 pyasn1_modules      unittest\nblaze               importlib           pyclbr              update_checker\nbleach              incremental         pycodestyle         update_checker_test\nbokeh               inspect             pycosat             urllib\nboto                io                  pycparser           urllib3\nboto3               ipaddress           pycurl              uu\nbotocore            ipykernel           pydoc               uuid\nbottleneck          ipykernel_launcher  pydoc_data          venv\nbqplot              ipython_genutils    pydot               warnings\nbrain_attrs         ipywidgets          pyexpat             wave\nbrain_builtin_inference isodate             pyflakes            wcwidth\nbrain_collections   isort               pyglet              weakref\nbrain_curses        isympy              pygments            webbrowser\nbrain_dateutil      itertools           pykafka             webencodings\nbrain_fstrings      itsdangerous        pylab               websocket\nbrain_functools     jdcal               pylint              werkzeug\nbrain_gi            jedi                pymc                wget\nbrain_hashlib       jeepney             pymc3               wheel\nbrain_io            jinja2              pymongo             widgetsnbextension\nbrain_mechanize     jmespath            pympler             word2vec\nbrain_multiprocessing joblib              pymssql             wrapt\nbrain_namedtuple_enum json                pymysql             wsgiref\nbrain_nose          jsonform            pyodbc              xdrlib\nbrain_numpy         jsonpickle          pypachy             xlrd\nbrain_pkg_resources jsonschema          pyparsing           xlsxwriter\nbrain_pytest        jsonsir             pyprof2calltree     xlwt\nbrain_qt            jupyter             pyspark             xml\nbrain_random        jupyter_client      pytest              xmlrpc\nbrain_re            jupyter_console     pytest_arraydiff    xxlimited\nbrain_six           jupyter_core        pytest_doctestplus  xxsubtype\nbrain_ssl           jupyterlab          pytest_openfiles    yaml\nbrain_subprocess    jupyterlab_launcher pytest_remotedata   zict\nbrain_threading     jwt                 pytz                zipapp\nbrain_typing        kafka               pyviz_comms         zipfile\nbrain_uuid          kazoo               pywrapfst           zipimport\nbrewer2mpl          keras               pywt                zlib\nbs4                 keras2onnx          pyximport           zmq\nbson                keras_applications  qtawesome           zope\nbuiltins            keras_preprocessing qtconsole           \nbz2                 kernprof            qtpy                \n\nEnter any module name to get more help.  Or, type \"modules spam\" to search\nfor modules whose name or summary contain the string \"spam\".\n\n",
          "name": "stdout"
        }
      ]
    },
    {
      "metadata": {},
      "cell_type": "markdown",
      "source": "## 01:01 – Kolla statuskod och HTTP-headers med requests\n*Requests* är en modul som enkelt hjälper till med förfrågningar över nätet, som att hämta innehållet från en webbsidan, posta saker, etc."
    },
    {
      "metadata": {
        "trusted": true
      },
      "cell_type": "code",
      "source": "import requests\n\nurl = \"https://www.vgregion.se\"\n\nreq = requests.get(url)\nprint('Info om request [statuskoden]:', req.status_code)\nprint('Headers:\\n', str(req.headers).replace(', ', ', \\n'))",
      "execution_count": 36,
      "outputs": [
        {
          "output_type": "stream",
          "text": "Info om request [statuskoden]: 200\nHeaders:\n {'Connection': 'Keep-Alive', \n'Transfer-Encoding': 'chunked', \n'Date': 'Mon, \n21 Oct 2019 08:31:24 GMT', \n'Content-Type': 'text/html; charset=utf-8', \n'Server': 'Microsoft-IIS/8.5', \n'Accept-Ranges': 'bytes', \n'X-AspNetMvc-Version': '5.2', \n'X-AspNet-Version': '4.0.30319', \n'X-UA-Compatible': 'IE=edge', \n'Content-Security-Policy': 'frame-ancestors *.vgregion.se *.vastarvet.se *.angeredsnarsjukhus.se *.fhsk.se *.lodosemuseum.se *.naturbruk.nu *.nusjukvarden.se *.vgrfolkhogskolor.se *.narhalsan.se *.forsviksbruk.se *.vanersborgsmuseum.se *.vitlyckemuseum.se *.sahlgrenska.se *.naturbruk.nu *.slojdochbyggnadsvard.se *.mun-h-center.se *.maritimaklustret.se *.botaniska.se *.gnm.se *.insipio.com *.esmaker.net *.samverkandesjukvard.se *.vastfastigheter.se *.fyrbodalshalsoakademi.se *.valdinararelationer.se *.utvag.se *.vardsamverkan.se *.nationellpvkonferens19.se *.utvag.com *.biobankvast.se *.t-d.se;', \n'X-Varnish': '280987874 280149614', \n'Strict-Transport-Security': 'max-age=31536000', \n'cache-control': 'no-cache, \nmust-revalidate', \n'Content-Encoding': 'gzip', \n'Vary': 'Accept-Encoding'}\n",
          "name": "stdout"
        }
      ]
    },
    {
      "metadata": {
        "trusted": true
      },
      "cell_type": "markdown",
      "source": "## 01:02 - Kolla sidtitel med BeautifulSoup\n*BeautifulSoup* bearbetar innehållet från webbsidor men också XML-filer, vilket är användbart för sitemaps, RSS-flöden med mera."
    },
    {
      "metadata": {
        "trusted": true
      },
      "cell_type": "code",
      "source": "# vi redan importerat requests sedan tidigare\n# variabeln 'url' är definierad i föregående block\nfrom bs4 import BeautifulSoup\n\nreq = requests.get(url)\n\nsoup = BeautifulSoup(req.content)\nprint('Sidans titel:', soup.title.text)\n\nprint('Längd på sidtitel:', len(soup.title.text), 'tecken')",
      "execution_count": 37,
      "outputs": [
        {
          "output_type": "stream",
          "text": "Sidans titel: Västra Götalandsregionen - Västra Götalandsregionen\nLängd på sidtitel: 51 tecken\n",
          "name": "stdout"
        }
      ]
    },
    {
      "metadata": {},
      "cell_type": "markdown",
      "source": "## 01:03 – Räkna antalet länkar\nAntalet länkar är intressant av flera anledningar. Dels finns en rekommendation om att ha färre än 200 länkar just för att det blir överväldigande många att välja emellan, men också inom SEO-kretsar vill man ha koll på antalet länkar. Det gäller att hushålla med sin \"länkjuice\", ha lagom med utgående länkar, etc.\nHär ett utkast på hur man kan räkna länkar."
    },
    {
      "metadata": {
        "trusted": true
      },
      "cell_type": "code",
      "source": "# vi fortsätter på ovanstående BS-kod\nfrom urllib.parse import urlparse\n\nalla_lankar = soup.findAll('a', href=True)\nprint('Antal länkar:', len(alla_lankar), 'stycken')\n\n# bearbeta URL:en vi hämtar länkar från\no = urlparse(url)\nprint('Domän för sidan som hämtats:', o.netloc)\n\ni = 0\nexterna_lankar = []\n\nfor lank in alla_lankar:\n    # ta bort hashtag på nedan rad om du vill lista alla länkar\n    # print(lank['href'])\n    \n    if 'http' in lank['href']:\n        o_lank = urlparse(lank['href'])\n        # print(o_lank.netloc)\n        \n        if o_lank.netloc != o.netloc:\n            # extern länk har hittats\n            i += 1\n            if o_lank.netloc not in externa_lankar:\n                # lägger endast med unika domäner\n                externa_lankar.append(o_lank.netloc)\n\nif i > 0:\n    print('Antal externa länkar:', i, 'stycken')\n    print('\\nExterna domäner som länkas:')\n    for lank in externa_lankar:\n        print('*', lank)\n\n    print('\\nAndel externa länkar:', round(100 * (i / len(alla_lankar)), 1), '%')\nelse:\n    print('\\nInga externa länkar.')",
      "execution_count": 38,
      "outputs": [
        {
          "output_type": "stream",
          "text": "Antal länkar: 130 stycken\nDomän för sidan som hämtats: www.vgregion.se\nAntal externa länkar: 12 stycken\n\nExterna domäner som länkas:\n* spoxy3.insipio.com\n* vgrfokus.se\n* www.facebook.com\n* twitter.com\n* www.linkedin.com\n* www.youtube.com\n\nAndel externa länkar: 9.2 %\n",
          "name": "stdout"
        }
      ]
    }
  ],
  "metadata": {
    "kernelspec": {
      "name": "python36",
      "display_name": "Python 3.6",
      "language": "python"
    },
    "language_info": {
      "mimetype": "text/x-python",
      "nbconvert_exporter": "python",
      "name": "python",
      "pygments_lexer": "ipython3",
      "version": "3.6.6",
      "file_extension": ".py",
      "codemirror_mode": {
        "version": 3,
        "name": "ipython"
      }
    }
  },
  "nbformat": 4,
  "nbformat_minor": 2
}