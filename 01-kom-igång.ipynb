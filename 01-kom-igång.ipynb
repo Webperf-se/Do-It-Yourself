{
  "cells": [
    {
      "metadata": {
        "collapsed": true
      },
      "cell_type": "markdown",
      "source": "# 01. Kom igång med Jupyter notebooks\nLek och lär med notebooks.\n\n## 1.1 Vi börjar med att hämta in nyttiga funktioner, läsa statuskod och sidtitel\nPå så sätt behöver vi inte skriva en massa extra kod."
    },
    {
      "metadata": {
        "trusted": true
      },
      "cell_type": "code",
      "source": "import requests # förenklar att hämta och posta saker över internet\nfrom bs4 import BeautifulSoup # bs4 hjälper till med att kolla på innehållet på en webbplats\n\nwebbadress = 'https://www.regeringen.se'\nreq = requests.get(webbadress)\n\n# skriva ut lite vad vi vet om webbadressen\nprint('Adressens statuskod är', req.status_code, '\\n200 betyder att allt är bra, 404 att sidan inte hittades, m.m.')\n\n# läsa in sidans innehåll (req.text) till bs4\nsoppan = BeautifulSoup(req.text, 'html.parser')\n\nprint('Sidans sidtitel är \\'{0}\\''.format(soppan.title.contents[0]))",
      "execution_count": 10,
      "outputs": [
        {
          "output_type": "stream",
          "text": "Adressens statuskod är 200 \n200 betyder att allt är bra, 404 att sidan inte hittades, m.m.\nSidans sidtitel är 'Regeringen.se - Regeringen.se'\n",
          "name": "stdout"
        }
      ]
    },
    {
      "metadata": {},
      "cell_type": "markdown",
      "source": "## 1.2 Kontroll av..."
    },
    {
      "metadata": {
        "trusted": true
      },
      "cell_type": "code",
      "source": "",
      "execution_count": null,
      "outputs": []
    }
  ],
  "metadata": {
    "kernelspec": {
      "name": "python36",
      "display_name": "Python 3.6",
      "language": "python"
    },
    "language_info": {
      "mimetype": "text/x-python",
      "nbconvert_exporter": "python",
      "name": "python",
      "pygments_lexer": "ipython3",
      "version": "3.6.6",
      "file_extension": ".py",
      "codemirror_mode": {
        "version": 3,
        "name": "ipython"
      }
    }
  },
  "nbformat": 4,
  "nbformat_minor": 2
}