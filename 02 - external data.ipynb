{
  "cells": [
    {
      "metadata": {
        "collapsed": true
      },
      "cell_type": "markdown",
      "source": "# 02 - using external data\nSome examples working with external data sources."
    },
    {
      "metadata": {},
      "cell_type": "markdown",
      "source": "## 02:01 Fetch website's name from Wikipedia\nSearching Wikipedia for the websites address and fetching the title of the first item."
    },
    {
      "metadata": {
        "trusted": true
      },
      "cell_type": "code",
      "source": "from bs4 import BeautifulSoup\nimport requests\n\ndef get_title_from_wikipedia(url='thenews.com.pk'):\n    \"\"\"\n    Post a domain name as input and the function will \n    search Wikipedia to try resolve the name/organisation\n    owning the domain.\n    \n    If nothing conclusive is found it returns bool:False\n    \"\"\"\n    url = 'https://en.wikipedia.org/w/index.php?search={0}&title=Special:Search&go=Go&ns0=1'.format(url)\n\n    r = requests.get(url)\n    soup = BeautifulSoup(r.content, 'html.parser')\n\n    if ' - Wikipedia' in soup.title.text and ' - Search results' not in soup.title.text:\n        # found an article\n        title = soup.title.text.replace(' - Wikipedia', '')\n        #print(title)\n        return title\n    else:\n        # ended up in a search result :/\n        return False",
      "execution_count": 14,
      "outputs": []
    },
    {
      "metadata": {
        "trusted": true
      },
      "cell_type": "code",
      "source": "import csv\nlimit = 5 #set to the number of roews you'd like to process\n\nwith open('data/majestic-2020-jan.csv') as csv_file:\n    csv_reader = csv.reader(csv_file, delimiter=',')\n    line_count = 0\n    for row in csv_reader:\n        if line_count == 0:\n            print(f'Column names are: {\", \".join(row)}')\n            line_count += 1\n        else:\n            wiki_name = get_title_from_wikipedia(row[2])\n            print(f'\\tRank {row[0]}: {row[2]} - {wiki_name}')\n            line_count += 1\n        if line_count is limit+1:\n            break\n    print(f'Processed {line_count} lines.')",
      "execution_count": 19,
      "outputs": [
        {
          "output_type": "stream",
          "text": "Column names are: GlobalRank, TldRank, Domain, TLD, RefSubNets, RefIPs, IDN_Domain, IDN_TLD, PrevGlobalRank, PrevTldRank, PrevRefSubNets, PrevRefIPs\n\tRank 1: google.com - Google Search\n\tRank 2: facebook.com - Facebook\n\tRank 3: youtube.com - YouTube\n\tRank 4: twitter.com - Twitter\n\tRank 5: instagram.com - Instagram\nProcessed 6 lines.\n",
          "name": "stdout"
        }
      ]
    },
    {
      "metadata": {
        "trusted": true
      },
      "cell_type": "code",
      "source": "",
      "execution_count": null,
      "outputs": []
    }
  ],
  "metadata": {
    "kernelspec": {
      "name": "python36",
      "display_name": "Python 3.6",
      "language": "python"
    },
    "language_info": {
      "mimetype": "text/x-python",
      "nbconvert_exporter": "python",
      "name": "python",
      "pygments_lexer": "ipython3",
      "version": "3.6.6",
      "file_extension": ".py",
      "codemirror_mode": {
        "version": 3,
        "name": "ipython"
      }
    }
  },
  "nbformat": 4,
  "nbformat_minor": 2
}