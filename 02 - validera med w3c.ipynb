{
  "cells": [
    {
      "metadata": {
        "collapsed": true
      },
      "cell_type": "markdown",
      "source": "# 02 - Validera med W3C\nFöljer webbplatsens kod webbstandard? Ganska ofta finns fel och varningar. Det händer ytterst sällan att valideringsfel beror på att en webbplats ligger före en blivande standard, men läs gärna om [när Whitespace med flit valde att ignorera hundratals fel](https://whitespace.se/blogg/nar-ar-det-ratt-att-gora-fel/)."
    },
    {
      "metadata": {},
      "cell_type": "markdown",
      "source": "## 02:01 - Validerar HTML-koden?\nNär HTML-koden är trasig kan det ställa till problem i folks olika webbläsare."
    },
    {
      "metadata": {
        "trusted": true
      },
      "cell_type": "code",
      "source": "import requests\nfrom bs4 import BeautifulSoup\n\nurl = 'https://www.vgregion.se'\n# fejkar att det är Google som ber om sidan\nheaders = { 'User-Agent': 'Mozilla/5.0 (compatible; Googlebot/2.1; +http://www.google.com/bot.html)', }\n\nreq = requests.get('https://validator.w3.org/nu/?doc={0}'.format(url.replace(':', '%3A').replace('/', '%2F')), headers=headers)\n\nsoup = BeautifulSoup(req.content)\nfel = soup.find_all(class_=\"error\")\nvarning = soup.find_all(class_=\"warning\")\n\nprint('Antal valideringsfel:', len(fel), 'stycken')\nprint('Antal varningar:', len(varning), 'stycken')",
      "execution_count": 25,
      "outputs": [
        {
          "output_type": "stream",
          "text": "Antal valideringsfel: 29 stycken\nAntal varningar: 11 stycken\n",
          "name": "stdout"
        }
      ]
    },
    {
      "metadata": {},
      "cell_type": "markdown",
      "source": "## 02:02 – Validerar CSS-koden?\nTrasig CSS-kod kan göra att saker inte visas upp på rätt sätt men också att det tar längre tid för webbsidan att visa upp sig när den måste lägga tid på att bearbeta felaktigheter."
    },
    {
      "metadata": {
        "trusted": true
      },
      "cell_type": "code",
      "source": "# BeautifulSoup och requests är importerade i föregående cell\n# variablerna url och header är definierade i föregående cell\n\nreq = requests.get('https://jigsaw.w3.org/css-validator/validator?uri={0}&profile=css3svg&usermedium=all&warning=1&vextwarning=&lang=en'.format(url.replace(':', '%3A').replace('/', '%2F')), headers=headers)\n\nsoup = BeautifulSoup(req.content)\nfel = soup.find_all(\"tr\", {\"class\": \"error\"})\nvarning = soup.find_all(\"tr\", {\"class\": \"warning\"})\n\nprint('Antal valideringsfel:', len(fel), 'stycken')\nprint('Antal varningar:', len(varning), 'stycken')",
      "execution_count": 28,
      "outputs": [
        {
          "output_type": "stream",
          "text": "Antal valideringsfel: 8 stycken\nAntal varningar: 634 stycken\n",
          "name": "stdout"
        }
      ]
    },
    {
      "metadata": {},
      "cell_type": "markdown",
      "source": "## 02:03 - Validerar RSS-flödet?"
    },
    {
      "metadata": {
        "trusted": true
      },
      "cell_type": "code",
      "source": "# todo",
      "execution_count": null,
      "outputs": []
    },
    {
      "metadata": {},
      "cell_type": "markdown",
      "source": "## 02:04 - Validerar sitemap/siteindex?"
    },
    {
      "metadata": {
        "trusted": true
      },
      "cell_type": "code",
      "source": "# todo",
      "execution_count": null,
      "outputs": []
    }
  ],
  "metadata": {
    "kernelspec": {
      "name": "python36",
      "display_name": "Python 3.6",
      "language": "python"
    },
    "language_info": {
      "mimetype": "text/x-python",
      "nbconvert_exporter": "python",
      "name": "python",
      "pygments_lexer": "ipython3",
      "version": "3.6.6",
      "file_extension": ".py",
      "codemirror_mode": {
        "version": 3,
        "name": "ipython"
      }
    }
  },
  "nbformat": 4,
  "nbformat_minor": 2
}