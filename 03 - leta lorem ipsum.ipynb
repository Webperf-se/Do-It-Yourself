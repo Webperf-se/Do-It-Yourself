{
  "cells": [
    {
      "metadata": {
        "collapsed": true
      },
      "cell_type": "markdown",
      "source": "# 03. Jaga dummy-texter på webbplatser\nNotebook innehåller inledningsvis psuedo-kod."
    },
    {
      "metadata": {},
      "cell_type": "markdown",
      "source": "## 03:01 – Lista med webbplatser att kontrollera"
    },
    {
      "metadata": {
        "trusted": true
      },
      "cell_type": "code",
      "source": "lista med domäner att bevaka = ['https://vgregion.se', 'https://vgrfokus.se']\narray med ord att leta efter = ['lorem ipsum', '123', 'testar']\n\nför varje domän:\n    hämta robots.txt\n    lägg i lista\n\nför varje robots.txt från domänerna:\n    leta upp url för sitemap.xml\n    läs in sitemap.xml\n    lägg URL:ar i lista\n\nför varje URL ur lista(eventuellt filter på ålder):\n    hämta innehåll\n    jämför innehållet mot array med fraser att leta efter\n    \n    vid träff:\n        skriv ut på skärmen (URL och fras som träffade)",
      "execution_count": null,
      "outputs": []
    }
  ],
  "metadata": {
    "kernelspec": {
      "name": "python36",
      "display_name": "Python 3.6",
      "language": "python"
    },
    "language_info": {
      "mimetype": "text/x-python",
      "nbconvert_exporter": "python",
      "name": "python",
      "pygments_lexer": "ipython3",
      "version": "3.6.6",
      "file_extension": ".py",
      "codemirror_mode": {
        "version": 3,
        "name": "ipython"
      }
    }
  },
  "nbformat": 4,
  "nbformat_minor": 2
}