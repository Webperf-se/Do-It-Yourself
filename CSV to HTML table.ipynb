{
 "cells": [
  {
   "cell_type": "markdown",
   "id": "54548c7d",
   "metadata": {},
   "source": [
    "# CSV to HTML table\n",
    "Do you have a CSV file ([Comma-separated values](https://sv.wikipedia.org/wiki/Comma-separated_values)) and would like to convert it to a HTML table? Look no further! \n",
    "\n",
    "This Python script will sort that out for you in notime!\n",
    "\n",
    "Prerequisites:\n",
    "* None other than Python 3.x and a CSV file"
   ]
  },
  {
   "cell_type": "code",
   "execution_count": 1,
   "id": "95aaf339",
   "metadata": {},
   "outputs": [
    {
     "name": "stdout",
     "output_type": "stream",
     "text": [
      "<table>\n",
      "<tr>\n",
      "<td>Domän:</td>\n",
      "<td>MX-pekare hittade:</td>\n",
      "<td>MX-data:</td>\n",
      "</tr>\n",
      "<tr>\n",
      "<td>ale.se</td>\n",
      "<td>outlook.com </td>\n",
      "<td>['ale-se.mail.protection.outlook.com.']</td>\n",
      "</tr>\n",
      "<tr>\n",
      "<td>alingsas.se</td>\n",
      "<td>Egen domän </td>\n",
      "<td>['smtp2.alingsas.se.', 'smtp1.alingsas.se.']</td>\n",
      "</tr>\n",
      "<tr>\n",
      "<td>alvesta.se</td>\n",
      "<td>outlook.com </td>\n",
      "<td>['alvesta-se.mail.protection.outlook.com.']</td>\n",
      "</tr>\n",
      "<tr>\n",
      "<td>aneby.se</td>\n",
      "<td>outlook.com </td>\n",
      "<td>['aneby-se.mail.protection.outlook.com.']</td>\n",
      "</tr>\n",
      "<tr>\n",
      "<td>arboga.se</td>\n",
      "<td>outlook.com </td>\n",
      "<td>['arboga-se.mail.protection.outlook.com.']</td>\n",
      "</tr>\n",
      "</table>\n"
     ]
    }
   ],
   "source": [
    "csv_data = \"\"\"Domän:; MX-pekare hittade:; MX-data:\n",
    "ale.se; outlook.com ; ['ale-se.mail.protection.outlook.com.']\n",
    "alingsas.se; Egen domän ; ['smtp2.alingsas.se.', 'smtp1.alingsas.se.']\n",
    "alvesta.se; outlook.com ; ['alvesta-se.mail.protection.outlook.com.']\n",
    "aneby.se; outlook.com ; ['aneby-se.mail.protection.outlook.com.']\n",
    "arboga.se; outlook.com ; ['arboga-se.mail.protection.outlook.com.']\"\"\"\n",
    "\n",
    "delimiter = '; '\n",
    "print(\"<table>\")\n",
    "\n",
    "for line in csv_data.split('\\n'):\n",
    "    print('<tr>')\n",
    "    for entry in line.split(delimiter):\n",
    "        print(f'<td>{entry}</td>')\n",
    "    \n",
    "    print('</tr>')\n",
    "\n",
    "print(\"</table>\")"
   ]
  },
  {
   "cell_type": "code",
   "execution_count": null,
   "id": "3f77c298",
   "metadata": {},
   "outputs": [],
   "source": []
  }
 ],
 "metadata": {
  "kernelspec": {
   "display_name": "Python 3 (ipykernel)",
   "language": "python",
   "name": "python3"
  },
  "language_info": {
   "codemirror_mode": {
    "name": "ipython",
    "version": 3
   },
   "file_extension": ".py",
   "mimetype": "text/x-python",
   "name": "python",
   "nbconvert_exporter": "python",
   "pygments_lexer": "ipython3",
   "version": "3.7.11"
  }
 },
 "nbformat": 4,
 "nbformat_minor": 5
}
