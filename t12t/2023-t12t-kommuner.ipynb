{
 "cells": [
  {
   "cell_type": "markdown",
   "id": "ece147fc",
   "metadata": {},
   "source": [
    "# t12t-koll på kommunernas webbar\n",
    "* [Data finns här som kalkylblad](https://docs.google.com/spreadsheets/d/13Xkjh69X-6G3eXgliKFyDtx2jX6Tktvf7t9JMczS0RE/edit?usp=sharing)\n",
    "* [Artikel / bloggpost är påbörjad här](https://docs.google.com/document/d/158j-5kDpzC2XBktJF92qOVasLUlHu9225DuUi5I_3Dc/edit?usp=sharing)"
   ]
  },
  {
   "cell_type": "code",
   "execution_count": 26,
   "id": "0d7cfa6c",
   "metadata": {},
   "outputs": [],
   "source": [
    "import csv\n",
    "\n",
    "def remove_initial_and_trailing_quote(input_string):\n",
    "    #return_string = input_string\n",
    "    \n",
    "    if input_string.startswith('\"'):\n",
    "        input_string = input_string[1:]\n",
    "    \n",
    "    if input_string.endswith('\"'):\n",
    "        input_string = input_string[:-1]\n",
    "        \n",
    "    return input_string\n",
    "\n",
    "unique_issues = dict()\n",
    "\n",
    "with open('2023-01-kommuner.csv', newline='\\n') as csvfile:\n",
    "    reader = csv.reader(csvfile, delimiter=';', quotechar='\"')\n",
    "    \n",
    "    for idx, row in enumerate(reader):\n",
    "        if idx != 0:\n",
    "            url = row[1]\n",
    "            lighthouse_score = row[2]\n",
    "            num_issues = row[4]\n",
    "            issues = row[5].split(\" || \")\n",
    "            #print(', '.join(row))\n",
    "\n",
    "            #print(f'{url} – {issues}')\n",
    "            for issue in issues:\n",
    "                clean_issue = remove_initial_and_trailing_quote(issue.strip())\n",
    "                \n",
    "                if clean_issue not in unique_issues:\n",
    "                    unique_issues[clean_issue] = 1\n",
    "                else:\n",
    "                    unique_issues[clean_issue] = unique_issues.get(clean_issue) + 1"
   ]
  },
  {
   "cell_type": "markdown",
   "id": "f6a78905",
   "metadata": {},
   "source": [
    "## Loopa igenom alla unika fel"
   ]
  },
  {
   "cell_type": "code",
   "execution_count": 44,
   "id": "a1066da6",
   "metadata": {},
   "outputs": [
    {
     "name": "stdout",
     "output_type": "stream",
     "text": [
      "antal_sidor_med_fel; procent_med_fel; felnamn\n",
      "858; 3,17; Några eller alla obligatoriska underordnade element med `[role]` saknas för element med ARIA-rollen `[role]`.\n",
      "8760; 32,37; Kontrasten mellan bakgrundsfärg och förgrundsfärg är inte tillräckligt stor.\n",
      "1090; 4,03; Listor innehåller inte enbart `<li>`-element och stödelement för skript (`<script>` och `<template>`).\n",
      "5042; 18,63; Vissa länkar har inte ett igenkännligt namn\n",
      "4056; 14,99; Rubrikelementen har inte ordnats i följd i fallande ordning\n",
      "565; 2,09; Vissa `<frame>`- eller `<iframe>`-element saknar titel\n",
      "1376; 5,08; Alla attribut av typen `[aria-*]` stämmer inte med elementets roll\n",
      "2183; 8,07; Alla bildelement har inte `[alt]`-attribut\n",
      "2011; 7,43; Vissa knappar har inte namn som hjälpmedlen kan använda\n",
      "149; 0,55; Dokumentet har inget `<title>`-element\n",
      "945; 3,49; `<html>`-elementet har inget `[lang]`-attribut\n",
      "1532; 5,66; `[user-scalable=&quot\n",
      "38; 0,14; Namnen för inmatningsfälten för ARIA är inte tillgängliga\n",
      "867; 3,2; Alla ARIA-id:n är inte unika\n",
      "447; 1,65; Alla attribut av typen `[aria-*]` har inte ett giltigt värde\n",
      "243; 0,9; Det finns element med `[role]`-attribut utan ett obligatoriskt överordnat element\n",
      "101; 0,37; Vissa attribut av typen `[aria-*]` är ogiltiga eller felstavade\n",
      "661; 2,44; Vissa formulärelement har inte etiketter\n",
      "1082; 4,0; Alla `[id]`-attribut för aktiva fokuserbara element är inte unika\n",
      "1721; 6,36; Det finns element med ett `[tabindex]`-värde som är större än 0\n",
      "6; 0,02; `<object>` element saknar alt-text\n",
      "636; 2,35; Alla `[aria-hidden=&quot\n",
      "580; 2,14; Vissa listposter (`<li>`) saknar ett överordnat `<ul>`- eller `<ol>`-element.\n",
      "1; 0,0; Namnen för `progressbar`-elementen för ARIA är inte igenkännliga.\n",
      "168; 0,62; Namnen för `button`-, `link`- och `menuitem`-elementen är inte igenkännliga.\n",
      "1; 0,0; Vissa `[lang]`-attribut har inte ett giltigt värde\n",
      "109; 0,4; Vissa `[role]`-värden är inte giltiga\n",
      "85; 0,31; Alla värden på `[accesskey]` är inte unika\n",
      "6; 0,02; Namnen för på/av-fälten för ARIA är inte tillgängliga\n",
      "2; 0,01; Det finns celler i ett `<table>`-element där attributet `[headers]` hänvisar till ett `id`-element som inte finns i samma tabell.\n",
      "4; 0,01; `<meta http-equiv=&quot\n",
      "11; 0,04; Vissa `<input type=&quot\n",
      "91; 0,34; Vissa element med attributet `[role]` har inte alla obligatoriska attribut av typen `[aria-*]`\n"
     ]
    }
   ],
   "source": [
    "def value_getter(item):\n",
    "    return item[1]\n",
    "\n",
    "sorted(unique_issues.items(), key=value_getter)\n",
    "\n",
    "print('antal_sidor_med_fel; procent_med_fel; felnamn')\n",
    "\n",
    "for issue in unique_issues:\n",
    "    if issue != '':\n",
    "        print(f'{unique_issues.get(issue)}; {str(round((unique_issues.get(issue) / 27063)*100, 2)).replace(\".\", \",\")}; {issue}')"
   ]
  },
  {
   "cell_type": "code",
   "execution_count": null,
   "id": "ad49e88d",
   "metadata": {},
   "outputs": [],
   "source": []
  }
 ],
 "metadata": {
  "kernelspec": {
   "display_name": "Python 3",
   "language": "python",
   "name": "python3"
  },
  "language_info": {
   "codemirror_mode": {
    "name": "ipython",
    "version": 3
   },
   "file_extension": ".py",
   "mimetype": "text/x-python",
   "name": "python",
   "nbconvert_exporter": "python",
   "pygments_lexer": "ipython3",
   "version": "3.8.8"
  }
 },
 "nbformat": 4,
 "nbformat_minor": 5
}
