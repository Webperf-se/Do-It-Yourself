{
 "cells": [
  {
   "cell_type": "markdown",
   "id": "ece147fc",
   "metadata": {},
   "source": [
    "# t12t-koll på offentligägda bolags webbar\n",
    "* [Data finns här som CSV](https://webperf.se/static/upload/dokument/2023-offentliga-bolag-t12t.csv)"
   ]
  },
  {
   "cell_type": "code",
   "execution_count": 1,
   "id": "0d7cfa6c",
   "metadata": {},
   "outputs": [],
   "source": [
    "import csv\n",
    "\n",
    "def remove_initial_and_trailing_quote(input_string):\n",
    "    #return_string = input_string\n",
    "    \n",
    "    if input_string.startswith('\"'):\n",
    "        input_string = input_string[1:]\n",
    "    \n",
    "    if input_string.endswith('\"'):\n",
    "        input_string = input_string[:-1]\n",
    "        \n",
    "    return input_string\n",
    "\n",
    "unique_issues = dict()\n",
    "\n",
    "with open('2023-offentliga-bolag-t12t.csv', newline='\\n') as csvfile:\n",
    "    reader = csv.reader(csvfile, delimiter=';', quotechar='\"')\n",
    "    \n",
    "    for idx, row in enumerate(reader):\n",
    "        if idx != 0:\n",
    "            url = row[1]\n",
    "            lighthouse_score = row[2]\n",
    "            num_issues = row[4]\n",
    "            issues = row[5].split(\" || \")\n",
    "            #print(', '.join(row))\n",
    "\n",
    "            #print(f'{url} – {issues}')\n",
    "            for issue in issues:\n",
    "                clean_issue = remove_initial_and_trailing_quote(issue.strip())\n",
    "                \n",
    "                if clean_issue not in unique_issues:\n",
    "                    unique_issues[clean_issue] = 1\n",
    "                else:\n",
    "                    unique_issues[clean_issue] = unique_issues.get(clean_issue) + 1"
   ]
  },
  {
   "cell_type": "markdown",
   "id": "f6a78905",
   "metadata": {},
   "source": [
    "## Loopa igenom alla unika fel"
   ]
  },
  {
   "cell_type": "code",
   "execution_count": 2,
   "id": "a1066da6",
   "metadata": {},
   "outputs": [
    {
     "name": "stdout",
     "output_type": "stream",
     "text": [
      "antal_sidor_med_fel; procent_med_fel; felnamn\n",
      "3248; 12,0; Namnen för `button`-, `link`- och `menuitem`-elementen är inte igenkännliga.\n",
      "13052; 48,23; Kontrasten mellan bakgrundsfärg och förgrundsfärg är inte tillräckligt stor.\n",
      "1456; 5,38; Alla ARIA-id:n är inte unika\n",
      "10232; 37,81; Rubrikelementen har inte ordnats i följd i fallande ordning\n",
      "10627; 39,27; Vissa länkar har inte ett igenkännligt namn\n",
      "1396; 5,16; `[user-scalable=&quote\n",
      "1741; 6,43; Vissa `<frame>`- eller `<iframe>`-element saknar titel\n",
      "304; 1,12; Alla attribut av typen `[aria-*]` har inte ett giltigt värde\n",
      "1245; 4,6; Alla attribut av typen `[aria-*]` stämmer inte med elementets roll\n",
      "552; 2,04; Det finns element med `[role]`-attribut utan ett obligatoriskt överordnat element\n",
      "3506; 12,95; Alla bildelement har inte `[alt]`-attribut\n",
      "821; 3,03; Några eller alla obligatoriska underordnade element med `[role]` saknas för element med ARIA-rollen `[role]`.\n",
      "86; 0,32; Vissa `[lang]`-attribut har inte ett giltigt värde\n",
      "860; 3,18; Alla `[id]`-attribut för aktiva fokuserbara element är inte unika\n",
      "1198; 4,43; Vissa formulärelement har inte etiketter\n",
      "3298; 12,19; Vissa knappar har inte namn som hjälpmedlen kan använda\n",
      "1207; 4,46; `<html>`-elementet har inget `[lang]`-attribut\n",
      "223; 0,82; Alla `[aria-hidden=&quote\n",
      "15; 0,06; Namnen för `progressbar`-elementen för ARIA är inte igenkännliga.\n",
      "3964; 14,65; Det finns element med ett `[tabindex]`-värde som är större än 0\n",
      "296; 1,09; Namnen för inmatningsfälten för ARIA är inte tillgängliga\n",
      "1130; 4,18; Listor innehåller inte enbart `<li>`-element och stödelement för skript (`<script>` och `<template>`).\n",
      "950; 3,51; Vissa listposter (`<li>`) saknar ett överordnat `<ul>`-, `<ol>`- eller `<menu>`-element.\n",
      "41; 0,15; Dokumentet har inget `<title>`-element\n",
      "1; 0,0; Det finns celler i ett `<table>`-element där attributet `[headers]` hänvisar till ett `id`-element som inte finns i samma tabell.\n",
      "289; 1,07; Vissa element med attributet `[role]` har inte alla obligatoriska attribut av typen `[aria-*]`\n",
      "71; 0,26; Det finns `<dl>`-element som inte enbart består av `<dt>`- och `<dd>`-grupper, `<script>`-, `<template>`- eller `<div>`-element.\n",
      "94; 0,35; Vissa attribut av typen `[aria-*]` är ogiltiga eller felstavade\n",
      "150; 0,55; Vissa `[role]`-värden är inte giltiga\n",
      "1; 0,0; Vissa `<input type=&quote\n",
      "42; 0,16; `<meta http-equiv=&quote\n",
      "4; 0,01; Vissa poster i definitionslistor har inte bäddats in i `<dl>`-element\n",
      "173; 0,64; `<html>`-elementets `[lang]`-attribut har inte ett giltigt värde.\n",
      "2106; 7,78; `[user-scalable=&quot\n",
      "367; 1,36; `<meta http-equiv=&quot\n",
      "511; 1,89; Alla `[aria-hidden=&quot\n",
      "69; 0,25; Alla värden på `[accesskey]` är inte unika\n",
      "2; 0,01; `<object>` element saknar alt-text\n"
     ]
    }
   ],
   "source": [
    "def value_getter(item):\n",
    "    return item[1]\n",
    "\n",
    "sorted(unique_issues.items(), key=value_getter)\n",
    "\n",
    "print('antal_sidor_med_fel; procent_med_fel; felnamn')\n",
    "\n",
    "for issue in unique_issues:\n",
    "    if issue != '':\n",
    "        print(f'{unique_issues.get(issue)}; {str(round((unique_issues.get(issue) / 27063)*100, 2)).replace(\".\", \",\")}; {issue}')"
   ]
  },
  {
   "cell_type": "code",
   "execution_count": null,
   "id": "ad49e88d",
   "metadata": {},
   "outputs": [],
   "source": []
  }
 ],
 "metadata": {
  "kernelspec": {
   "display_name": "Python 3 (ipykernel)",
   "language": "python",
   "name": "python3"
  },
  "language_info": {
   "codemirror_mode": {
    "name": "ipython",
    "version": 3
   },
   "file_extension": ".py",
   "mimetype": "text/x-python",
   "name": "python",
   "nbconvert_exporter": "python",
   "pygments_lexer": "ipython3",
   "version": "3.7.15"
  }
 },
 "nbformat": 4,
 "nbformat_minor": 5
}
