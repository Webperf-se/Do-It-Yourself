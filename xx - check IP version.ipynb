{
 "cells": [
  {
   "cell_type": "markdown",
   "metadata": {},
   "source": [
    "# Checking IP version of a domain\n",
    "Requirements:\n",
    "* [dnspython](http://www.dnspython.org/)"
   ]
  },
  {
   "cell_type": "markdown",
   "metadata": {},
   "source": [
    "## List the domain names you'd like to check"
   ]
  },
  {
   "cell_type": "code",
   "execution_count": null,
   "metadata": {},
   "outputs": [],
   "source": [
    "domain_names_to_check = ['webperf.se', 'aftonbladet.se', 'sahlgrrrrenska.se']"
   ]
  },
  {
   "cell_type": "markdown",
   "metadata": {},
   "source": [
    "## Check each domain's version of IP\n",
    "It checks for IPv6, if not found it assumes the domain is IPv4 only."
   ]
  },
  {
   "cell_type": "code",
   "execution_count": null,
   "metadata": {},
   "outputs": [],
   "source": [
    "import dns.resolver\n",
    "\n",
    "for domain in domain_names_to_check:    \n",
    "    try: \n",
    "        answer = dns.resolver.query(domain, \"AAAA\") #IPv6\n",
    "        print(f\"{domain}, {answer[0]}, IPv6\")\n",
    "    except dns.resolver.NoAnswer:\n",
    "        print(f\"{domain}, No AAAA, IPv4\") #IPv4\n",
    "    except dns.resolver.NXDOMAIN:\n",
    "        print(f\"{domain}, No such domain, None\")"
   ]
  }
 ],
 "metadata": {
  "kernelspec": {
   "display_name": "Python 3",
   "language": "python",
   "name": "python3"
  },
  "language_info": {
   "codemirror_mode": {
    "name": "ipython",
    "version": 3
   },
   "file_extension": ".py",
   "mimetype": "text/x-python",
   "name": "python",
   "nbconvert_exporter": "python",
   "pygments_lexer": "ipython3",
   "version": "3.7.6"
  }
 },
 "nbformat": 4,
 "nbformat_minor": 4
}
