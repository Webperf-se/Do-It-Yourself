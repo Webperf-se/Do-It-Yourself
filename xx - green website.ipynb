{
 "cells": [
  {
   "cell_type": "markdown",
   "metadata": {},
   "source": [
    "# Green website?"
   ]
  },
  {
   "cell_type": "code",
   "execution_count": 74,
   "metadata": {},
   "outputs": [],
   "source": [
    "import requests\n",
    "from bs4 import BeautifulSoup\n",
    "import time\n",
    "\n",
    "sleep_in_seconds = 30\n",
    "\n",
    "def check_green(domain = 'webperf.se', return_as_csv=True):\n",
    "    \"\"\"\n",
    "    Bla bla\n",
    "    \"\"\"\n",
    "    # https://www.websitecarbon.com\n",
    "    post_form = requests.post('https://www.websitecarbon.com', data = {'wgd-cc-url':domain})\n",
    "    \n",
    "    time.sleep(sleep_in_seconds) # waiting for a result\n",
    "    \n",
    "    webpage = f'https://www.websitecarbon.com/website/{domain.replace(\".\", \"-\")}/'\n",
    "    headers = {\n",
    "    'User-Agent': 'Mozilla/5.0 (compatible; Googlebot/2.1; +http://www.google.com/bot.html)'\n",
    "    }\n",
    "    r = requests.get(webpage, timeout=40, headers=headers)\n",
    "\n",
    "    soup = BeautifulSoup(r.text, 'html.parser')\n",
    "    \n",
    "    good_or_bad = soup.find_all(\"p\", \"report-summary__heading\")\n",
    "    if 'dirtier' in good_or_bad[0].text:\n",
    "        good_or_bad_mess = \"Sämre\"\n",
    "    else:\n",
    "        good_or_bad_mess = \"Bättre\"\n",
    "\n",
    "    percent = soup.find_all(\"span\", \"js-countup\")[0]['data-count']\n",
    "    percent_mess = f\"* {good_or_bad_mess} än {percent} % av de som Website Carbon Calculator utvärderat.\"\n",
    "\n",
    "    co2_in_grams = float(soup.find_all(\"span\", \"js-countup\")[1]['data-count'])\n",
    "    co2_in_grams = round(co2_in_grams, 2)\n",
    "    co2_mess = f\"* Cirka {co2_in_grams} gram koldioxid produceras vid varje besök på denna webbplats.\"\n",
    "\n",
    "    energy = soup.find_all(\"span\", \"highlight\")\n",
    "    if energy[2].text == \"bog standard energy\":\n",
    "        energy_mess = '* Webbplatsen verkar dessvärre driftas på vanlig el :/'\n",
    "    elif energy[2].text == \"sustainable energy\":\n",
    "        energy_mess = '* Webbplatsen driftas med hjälp av grön el :)'\n",
    "    else:\n",
    "        energy_mess = f\"* Webbplatsen driftas med hjälp av '{energi[2].text}'\"\n",
    "    \n",
    "    if return_as_csv:\n",
    "        print(f\"{domain};{good_or_bad_mess};{percent};{co2_in_grams};{energi[2].text}\")\n",
    "    else:\n",
    "        print(f\"* {domain}\\n{percent_mess}\\n{co2_mess}\\n{energy_mess}\")\n",
    "\n",
    "#check_green()"
   ]
  },
  {
   "cell_type": "code",
   "execution_count": 75,
   "metadata": {},
   "outputs": [
    {
     "name": "stdout",
     "output_type": "stream",
     "text": [
      "berg.se;Bättre;77;0.35;sustainable energy\n"
     ]
    }
   ],
   "source": [
    "check_green('berg.se')\n",
    "#check_green('webperf.se')"
   ]
  },
  {
   "cell_type": "code",
   "execution_count": null,
   "metadata": {
    "scrolled": true
   },
   "outputs": [
    {
     "name": "stdout",
     "output_type": "stream",
     "text": [
      "arvidsjaur.se;Sämre;64;1.39;sustainable energy\n"
     ]
    }
   ],
   "source": [
    "urls = ['arvidsjaur.se', 'berg.se', 'bollebygd.se', 'botkyrka.se', 'bastad.se', 'degerfors.se', 'dorotea.se', 'eskilstuna.se', 'kommun.falkenberg.se', 'falkoping.se', 'falun.se', 'forshaga.se', 'gnesta.se', 'grums.se', 'gullspang.se', 'gavle.se', 'gotene.se', 'halmstad.se', 'haparanda.se', 'heby.se', 'helsingborg.se', 'huddinge.se', 'hultsfred.se', 'hylte.se', 'habo.se', 'hellefors.se', 'harnosand.se', 'kalix.se', 'karlshamn.se', 'karlskoga.se', 'karlskrona.se', 'karlstad.se', 'kinda.se', 'kramfors.se', 'krokom.se', 'lekeberg.se', 'lerum.se', 'lidingo.se', 'lidkoping.se', 'lindesberg.se', 'linkoping.se', 'ljungby.se', 'lulea.se', 'lund.se', 'mariestad.se', 'molndal.se', 'nacka.se', 'norrkoping.se', 'olofstrom.se', 'orust.se', 'oxelosund.se', 'pitea.se', 'ragunda.se', 'sala.se', 'salem.se', 'sandviken.se', 'simrishamn.se', 'sjobo.se', 'skelleftea.se', 'skinnskatteberg.se', 'skovde.se', 'sollentuna.se', 'start.stockholm', 'strangnas.se', 'stromsund.se', 'sundbyberg.se', 'sundsvall.se', 'sunne.se', 'soderhamn.se', 'soderkoping.se', 'sodertalje.se', 'solvesborg.se', 'tanum.se', 'tidaholm.se', 'tierp.se', 'timra.se', 'tjorn.se', 'tomelilla.se', 'torsby.se', 'tranas.se', 'trollhattan.se', 'toreboda.se', 'uddevalla.se', 'umea.se', 'upplandsvasby.se', 'upplands-bro.se', 'uppsala.se', 'vara.se', 'varberg.se', 'vetlanda.se', 'vimmerby.se', 'vindeln.se', 'vargarda.se', 'varmdo.se', 'vastervik.se', 'vasteras.se', 'ystad.se', 'ange.se', 'asele.se', 'alvkarleby.se', 'engelholm.se', 'orebro.se', 'ostersund.se', 'ale.se', 'alingsas.se', 'alvesta.se', 'aneby.se', 'arboga.se', 'arjeplog.se', 'arvika.se', 'askersund.se', 'avesta.se', 'bengtsfors.se', 'bjurholm.se', 'bjuv.se', 'boden.se', 'bollnas.se', 'borgholm.se', 'borlange.se', 'boras.se', 'boxholm.se', 'bromolla.se', 'bracke.se', 'burlov.se', 'dalsed.se', 'danderyd.se', 'eda.se', 'ekero.se', 'eksjo.se', 'emmaboda.se', 'enkoping.se', 'eslov.se', 'essunga.se', 'fagersta.se', 'filipstad.se', 'finspang.se', 'flen.se', 'fargelanda.se', 'gagnef.se', 'gislaved.se', 'gnosjo.se', 'grastorp.se', 'gellivare.se', 'goteborg.se', 'habokommun.se', 'hagfors.se', 'hallsberg.se', 'hallstahammar.se', 'hammaro.se', 'haninge.se', 'hedemora.se', 'herrljunga.se', 'hjo.se', 'hofors.se', 'hudiksvall.se', 'herjedalen.se', 'harryda.se', 'hassleholm.se', 'hoganas.se', 'hogsby.se', 'horby.se', 'hoor.se', 'jokkmokk.se', 'jarfalla.se', 'jonkoping.se', 'kalmar.se', 'karlsborg.se', 'katrineholm.se', 'kil.se', 'kiruna.se', 'klippan.se', 'knivsta.se', 'kristianstad.se', 'kristinehamn.se', 'kumla.se', 'kungsbacka.se', 'kungsor.se', 'kungalv.se', 'kavlinge.se', 'koping.se', 'laholm.se', 'landskrona.se', 'laxa.se', 'leksand.se', 'lessebo.se', 'lillaedet.se', 'ljusdal.se', 'ljusnarsberg.se', 'lomma.se', 'ludvika.se', 'lycksele.se', 'lysekil.se', 'malmo.se', 'malung-salen.se', 'mala.se', 'markaryd.se', 'mark.se', 'mellerud.se', 'mjolby.se', 'mora.se', 'motala.se', 'mullsjo.se', 'munkedal.se', 'munkfors.se', 'monsteras.se', 'morbylanga.se', 'nora.se', 'norberg.se', 'nordanstig.se', 'nordmaling.se', 'norrtalje.se', 'norsjo.se', 'nybro.se', 'nykvarn.se', 'nykoping.se', 'nynashamn.se', 'nassjo.se', 'ockelbo.se', 'orsa.se', 'osby.se', 'oskarshamn.se', 'ovanaker.se', 'pajala.se', 'partille.se', 'perstorp.se', 'robertsfors.se', 'ronneby.se', 'rattvik.se', 'sigtuna.se', 'skara.se', 'skurup.se', 'smedjebacken.se', 'solleftea.se', 'solna.se', 'sorsele.se', 'sotenas.se', 'staffanstorp.se', 'stenungsund.se', 'storfors.se', 'storuman.se', 'stromstad.se', 'surahammar.se', 'svalov.se', 'svedala.se', 'svenljunga.se', 'saffle.se', 'sater.se', 'savsjo.se', 'tibro.se', 'tingsryd.se', 'torsas.se', 'tranemo.se', 'trelleborg.se', 'trosa.se', 'tyreso.se', 'taby.se', 'ulricehamn.se', 'uppvidinge.se', 'vadstena.se', 'vaggeryd.se', 'valdemarsvik.se', 'vallentuna.se', 'vansbro.se', 'vaxholm.se', 'vellinge.se', 'vilhelmina.se', 'vingaker.se', 'vanersborg.se', 'vannas.se', 'varnamo.se', 'vaxjo.se', 'ydre.se', 'amal.se', 'are.se', 'arjang.se', 'astorp.se', 'atvidaberg.se', 'almhult.se', 'alvdalen.se', 'alvsbyn.se', 'ockero.se', 'odeshog.se', 'orkelljunga.se', 'ornskoldsvik.se', 'osteraker.se', 'osthammar.se', 'ostragoinge.se', 'overkalix.se', 'overtornea.se']\n",
    "\n",
    "# Exempel på smutsiga sidor:\n",
    "# https://www.websitecarbon.com/website/helsingborg-se/\n",
    "# https://www.websitecarbon.com/website/skovde-se/\n",
    "\n",
    "for website in urls:\n",
    "    \n",
    "    try:\n",
    "        check_green(website, True)\n",
    "    except:\n",
    "        print(website, \"Fail\")\n",
    "    \n",
    "    time.sleep(sleep_in_seconds)"
   ]
  },
  {
   "cell_type": "code",
   "execution_count": null,
   "metadata": {},
   "outputs": [],
   "source": []
  }
 ],
 "metadata": {
  "kernelspec": {
   "display_name": "Python 3",
   "language": "python",
   "name": "python3"
  },
  "language_info": {
   "codemirror_mode": {
    "name": "ipython",
    "version": 3
   },
   "file_extension": ".py",
   "mimetype": "text/x-python",
   "name": "python",
   "nbconvert_exporter": "python",
   "pygments_lexer": "ipython3",
   "version": "3.7.9"
  }
 },
 "nbformat": 4,
 "nbformat_minor": 4
}
