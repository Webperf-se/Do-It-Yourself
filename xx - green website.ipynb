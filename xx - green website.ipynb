{
 "cells": [
  {
   "cell_type": "markdown",
   "metadata": {},
   "source": [
    "# Green website?"
   ]
  },
  {
   "cell_type": "code",
   "execution_count": null,
   "metadata": {},
   "outputs": [],
   "source": [
    "import requests\n",
    "from bs4 import BeautifulSoup\n",
    "import time\n",
    "\n",
    "sleep_in_seconds = 30\n",
    "\n",
    "def check_green(domain = 'webperf.se', return_as_csv=True):\n",
    "    \"\"\"\n",
    "    Bla bla\n",
    "    \"\"\"\n",
    "    # https://www.websitecarbon.com\n",
    "    post_form = requests.post('https://www.websitecarbon.com', data = {'wgd-cc-url':domain})\n",
    "    \n",
    "    time.sleep(sleep_in_seconds) # waiting for a result\n",
    "    \n",
    "    webpage = 'https://www.websitecarbon.com/website/{}/'.format(domain.replace(\".\", \"-\"))\n",
    "    headers = {\n",
    "    'User-Agent': 'Mozilla/5.0 (compatible; Googlebot/2.1; +http://www.google.com/bot.html)'\n",
    "    }\n",
    "    r = requests.get(webpage, timeout=40, headers=headers)\n",
    "\n",
    "    soup = BeautifulSoup(r.text, 'html.parser')\n",
    "    \n",
    "    good_or_bad = soup.find_all(\"p\", \"report-summary__heading\")\n",
    "    if 'dirtier' in good_or_bad[0].text:\n",
    "        good_or_bad_mess = \"Sämre\"\n",
    "    else:\n",
    "        good_or_bad_mess = \"Bättre\"\n",
    "\n",
    "    percent = soup.find_all(\"span\", \"js-countup\")[0]['data-count']\n",
    "    percent_mess = \"* {0} än {1} % av de som Website Carbon Calculator utvärderat.\".format(good_or_bad_mess, percent)\n",
    "\n",
    "    co2_in_grams = float(soup.find_all(\"span\", \"js-countup\")[1]['data-count'])\n",
    "    co2_in_grams = round(co2_in_grams, 2)\n",
    "    co2_mess = \"* Cirka {} gram koldioxid produceras vid varje besök på denna webbplats.\".format(co2_in_grams)\n",
    "\n",
    "    energy = soup.find_all(\"span\", \"highlight\")\n",
    "    if energy[2].text == \"bog standard energy\":\n",
    "        energy_mess = '* Webbplatsen verkar dessvärre driftas på vanlig el :/'\n",
    "    elif energy[2].text == \"sustainable energy\":\n",
    "        energy_mess = '* Webbplatsen driftas med hjälp av grön el :)'\n",
    "    else:\n",
    "        energy_mess = \"* Webbplatsen driftas med hjälp av '{}'\".format(energi[2].text)\n",
    "    \n",
    "    if return_as_csv:\n",
    "        print(\"{0};{1};{2};{3};{4}\".format(domain, good_or_bad_mess, percent, co2_in_grams, energy[2].text))\n",
    "    else:\n",
    "        print(\"* {0}\\n{1}\\n{2}\\n{3}\".format(domain, percent_mess, co2_mess, energy_mess))\n",
    "\n",
    "#check_green()"
   ]
  },
  {
   "cell_type": "code",
   "execution_count": null,
   "metadata": {},
   "outputs": [],
   "source": [
    "check_green('askersund.se', False)\n",
    "#check_green('webperf.se')"
   ]
  },
  {
   "cell_type": "code",
   "execution_count": null,
   "metadata": {
    "scrolled": true
   },
   "outputs": [],
   "source": [
    "urls = ['hultsfred.se', 'gnosjo.se', 'hoganas.se']\n",
    "\n",
    "# Exempel på smutsiga sidor:\n",
    "# https://www.websitecarbon.com/website/helsingborg-se/\n",
    "# https://www.websitecarbon.com/website/skovde-se/\n",
    "\n",
    "for website in urls:\n",
    "    \n",
    "    try:\n",
    "        check_green(website, True)\n",
    "    except:\n",
    "        print(website, \"Fail\")\n",
    "    \n",
    "    time.sleep(20)"
   ]
  },
  {
   "cell_type": "code",
   "execution_count": null,
   "metadata": {},
   "outputs": [],
   "source": []
  }
 ],
 "metadata": {
  "kernelspec": {
   "display_name": "Python 3",
   "language": "python",
   "name": "python3"
  },
  "language_info": {
   "codemirror_mode": {
    "name": "ipython",
    "version": 3
   },
   "file_extension": ".py",
   "mimetype": "text/x-python",
   "name": "python",
   "nbconvert_exporter": "python",
   "pygments_lexer": "ipython3",
   "version": "3.7.9"
  }
 },
 "nbformat": 4,
 "nbformat_minor": 4
}
