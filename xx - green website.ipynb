{
 "cells": [
  {
   "cell_type": "markdown",
   "metadata": {},
   "source": [
    "# Green website?"
   ]
  },
  {
   "cell_type": "code",
   "execution_count": 40,
   "metadata": {},
   "outputs": [],
   "source": [
    "import requests\n",
    "from bs4 import BeautifulSoup\n",
    "\n",
    "webpage = 'https://www.websitecarbon.com/website/aftonbladet-se/'\n",
    "r = requests.get(webpage, timeout=40)\n",
    "\n",
    "soup = BeautifulSoup(r.text, 'html.parser')"
   ]
  },
  {
   "cell_type": "code",
   "execution_count": 41,
   "metadata": {},
   "outputs": [
    {
     "name": "stdout",
     "output_type": "stream",
     "text": [
      "* Bättre än 61 % av de som Website Carbon Calculator utvärderat.\n"
     ]
    }
   ],
   "source": [
    "# class=\"js-countup\"\n",
    "percent = soup.find_all(\"span\", \"js-countup\")[0]['data-count']\n",
    "print(f\"* Bättre än {percent} % av de som Website Carbon Calculator utvärderat.\")"
   ]
  },
  {
   "cell_type": "code",
   "execution_count": 42,
   "metadata": {},
   "outputs": [
    {
     "name": "stdout",
     "output_type": "stream",
     "text": [
      "* Cirka 1.26 gram koldioxid produceras vid varje besök på denna webbplats.\n"
     ]
    }
   ],
   "source": [
    "co2_in_grams = float(soup.find_all(\"span\", \"js-countup\")[1]['data-count'])\n",
    "print(f\"* Cirka {round(co2_in_grams, 2)} gram koldioxid produceras vid varje besök på denna webbplats.\")"
   ]
  },
  {
   "cell_type": "code",
   "execution_count": 43,
   "metadata": {},
   "outputs": [
    {
     "name": "stdout",
     "output_type": "stream",
     "text": [
      "* Webbplatsen verkar dessvärre driftas på vanlig el :/\n"
     ]
    }
   ],
   "source": [
    "energi = soup.find_all(\"span\", \"highlight\")\n",
    "if energi[2].text == \"bog standard energy\":\n",
    "    print('* Webbplatsen verkar dessvärre driftas på vanlig el :/')\n",
    "elif energi[2].text == \"sustainable energy\":\n",
    "    print('* Webbplatsen driftas med hjälp av grön el :)')\n",
    "else:\n",
    "    print(f\"* Webbplatsen driftas med hjälp av '{energi[2].text}'\")"
   ]
  }
 ],
 "metadata": {
  "kernelspec": {
   "display_name": "Python 3",
   "language": "python",
   "name": "python3"
  },
  "language_info": {
   "codemirror_mode": {
    "name": "ipython",
    "version": 3
   },
   "file_extension": ".py",
   "mimetype": "text/x-python",
   "name": "python",
   "nbconvert_exporter": "python",
   "pygments_lexer": "ipython3",
   "version": "3.7.9"
  }
 },
 "nbformat": 4,
 "nbformat_minor": 4
}
