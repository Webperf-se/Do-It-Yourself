{
 "cells": [
  {
   "cell_type": "markdown",
   "metadata": {},
   "source": [
    "# Look for string in HTML\n",
    "Requirements:\n",
    "* [requests](https://pypi.org/project/requests/)"
   ]
  },
  {
   "cell_type": "markdown",
   "metadata": {},
   "source": [
    "## List the domain names you'd like to check"
   ]
  },
  {
   "cell_type": "code",
   "execution_count": 8,
   "metadata": {},
   "outputs": [],
   "source": [
    "webpages_to_check = ['https://webperf.se', 'https://aftonbladet.se', 'https://sahlgrenska.se']"
   ]
  },
  {
   "cell_type": "markdown",
   "metadata": {},
   "source": [
    "## Check each domain's version of IP\n",
    "It checks for IPv6, if not found it assumes the domain is IPv4 only."
   ]
  },
  {
   "cell_type": "code",
   "execution_count": 12,
   "metadata": {},
   "outputs": [
    {
     "name": "stdout",
     "output_type": "stream",
     "text": [
      "URL;HTTP code;Analytics\n",
      "https://webperf.se;200;Piwik\n",
      "https://aftonbladet.se;200;unknown\n",
      "https://sahlgrenska.se;200;Piwik\n"
     ]
    }
   ],
   "source": [
    "import requests\n",
    "\n",
    "print(\"URL;HTTP code;Analytics\")\n",
    "\n",
    "for webpage in webpages_to_check:\n",
    "    try: \n",
    "        r = requests.get(webpage, timeout=20)\n",
    "        \n",
    "        if 'matomo' in r.text:\n",
    "            print(f\"{webpage};{r.status_code};Matomo\")\n",
    "        elif 'piwik' in r.text:\n",
    "            print(f\"{webpage};{r.status_code};Piwik\")\n",
    "        elif 'ga.js' in r.text:\n",
    "            print(f\"{webpage};{r.status_code};Google Analytics\")\n",
    "        elif 'adobe' in r.text:\n",
    "            print(f\"{webpage};{r.status_code};Adobe Analytics\")\n",
    "        else:\n",
    "            print(f\"{webpage};{r.status_code};unknown\")\n",
    "    except:\n",
    "        print(f\"{webpage};Error;Error\")"
   ]
  },
  {
   "cell_type": "code",
   "execution_count": null,
   "metadata": {},
   "outputs": [],
   "source": []
  }
 ],
 "metadata": {
  "kernelspec": {
   "display_name": "Python 3",
   "language": "python",
   "name": "python3"
  },
  "language_info": {
   "codemirror_mode": {
    "name": "ipython",
    "version": 3
   },
   "file_extension": ".py",
   "mimetype": "text/x-python",
   "name": "python",
   "nbconvert_exporter": "python",
   "pygments_lexer": "ipython3",
   "version": "3.8.3"
  }
 },
 "nbformat": 4,
 "nbformat_minor": 4
}
