{
 "cells": [
  {
   "cell_type": "markdown",
   "metadata": {},
   "source": [
    "# Simple request to a webAPI"
   ]
  },
  {
   "cell_type": "markdown",
   "metadata": {},
   "source": [
    "## 1. Making the request"
   ]
  },
  {
   "cell_type": "code",
   "execution_count": 31,
   "metadata": {},
   "outputs": [
    {
     "name": "stdout",
     "output_type": "stream",
     "text": [
      "The data type should be a dict:\n",
      " <class 'dict'>\n"
     ]
    }
   ],
   "source": [
    "#-*- coding: utf-8 -*-\n",
    "import requests, json\n",
    "\n",
    "req = requests.get('https://services.viva.sjofartsverket.se:8080/output/vivaoutputservice.svc/vivastation/100')\n",
    "json_data = ''\n",
    "\n",
    "if '200' in str(req):\n",
    "    json_data = json.loads(req.text)\n",
    "\n",
    "    print('The data type should be a dict:\\n', type(json_data))\n",
    "else:\n",
    "    print(f\"The HTTP request failed. Message:\\n{req}\")"
   ]
  },
  {
   "cell_type": "markdown",
   "metadata": {},
   "source": [
    "## 2. Working with the response"
   ]
  },
  {
   "cell_type": "code",
   "execution_count": 35,
   "metadata": {},
   "outputs": [
    {
     "name": "stdout",
     "output_type": "stream",
     "text": [
      "GetSingleStationResult\n",
      "<class 'dict'>\n"
     ]
    }
   ],
   "source": [
    "for key, value in json_data.items():\n",
    "    print(key)\n",
    "    print(type(value))"
   ]
  }
 ],
 "metadata": {
  "kernelspec": {
   "display_name": "Python 3",
   "language": "python",
   "name": "python3"
  },
  "language_info": {
   "codemirror_mode": {
    "name": "ipython",
    "version": 3
   },
   "file_extension": ".py",
   "mimetype": "text/x-python",
   "name": "python",
   "nbconvert_exporter": "python",
   "pygments_lexer": "ipython3",
   "version": "3.7.6"
  }
 },
 "nbformat": 4,
 "nbformat_minor": 4
}
